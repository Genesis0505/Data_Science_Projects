{
 "cells": [
  {
   "cell_type": "code",
   "execution_count": 16,
   "id": "95b08a10",
   "metadata": {},
   "outputs": [],
   "source": [
    "# standard imports\n",
    "import numpy as np\n",
    "import pandas as pd\n"
   ]
  },
  {
   "cell_type": "code",
   "execution_count": 17,
   "id": "4eac67b6",
   "metadata": {},
   "outputs": [
    {
     "data": {
      "text/plain": [
       "Index(['Weekday (Mon = 1; Sun = 7)', 'Date', 'Public Holiday?', 'Avg. Temp',\n",
       "       'Precipitation', 'Sunshine Hours', 'Max. Wind (km/h)', 'Food sales'],\n",
       "      dtype='object')"
      ]
     },
     "execution_count": 17,
     "metadata": {},
     "output_type": "execute_result"
    }
   ],
   "source": [
    "df = pd.read_excel(\"Statistical Analysis Base Data train1.xlsx\")\n",
    "\n",
    "df.columns"
   ]
  },
  {
   "cell_type": "code",
   "execution_count": 18,
   "id": "f9212611",
   "metadata": {},
   "outputs": [],
   "source": [
    "#split into x/y\n",
    "x = df.drop(\"Food sales\", axis=1) \n",
    "y = df[\"Food sales\"]\n"
   ]
  },
  {
   "cell_type": "code",
   "execution_count": 19,
   "id": "01f48bcb",
   "metadata": {},
   "outputs": [
    {
     "data": {
      "text/plain": [
       "array([[ 1. ,  0. ,  2. , ...,  0. , 12.3, 24. ],\n",
       "       [ 1. ,  0. ,  3. , ...,  0. ,  8. , 44. ],\n",
       "       [ 1. ,  0. ,  4. , ...,  0. , 12.2, 42. ],\n",
       "       ...,\n",
       "       [ 1. ,  0. ,  5. , ...,  0. ,  2.3,  0. ],\n",
       "       [ 1. ,  0. ,  6. , ...,  0. ,  8.7, 18. ],\n",
       "       [ 1. ,  0. ,  7. , ...,  0. ,  2.5, 30. ]])"
      ]
     },
     "execution_count": 19,
     "metadata": {},
     "output_type": "execute_result"
    }
   ],
   "source": [
    "# turn the categories into numbers\n",
    "from sklearn.preprocessing import OneHotEncoder\n",
    "from sklearn.compose import ColumnTransformer\n",
    "\n",
    "categorical_features = [\"Public Holiday?\"]\n",
    "one_hot = OneHotEncoder()\n",
    "transformer = ColumnTransformer([(\"one_hot\", \n",
    "                                   one_hot,\n",
    "                                   categorical_features)],\n",
    "                                   remainder=\"passthrough\")\n",
    "\n",
    "transformed_x = transformer.fit_transform(x)\n",
    "transformed_x"
   ]
  },
  {
   "cell_type": "code",
   "execution_count": 20,
   "id": "2acc54d4",
   "metadata": {},
   "outputs": [],
   "source": [
    "# split data into training and test sets\n",
    "\n",
    "np.random.seed(42)\n",
    "from sklearn.model_selection import train_test_split\n",
    "\n",
    "x_train, x_test, y_train, y_test = train_test_split(transformed_x, \n",
    "                                                    y, \n",
    "                                                    test_size=0.2)"
   ]
  },
  {
   "cell_type": "code",
   "execution_count": 7,
   "id": "34b22e8d",
   "metadata": {},
   "outputs": [
    {
     "data": {
      "text/plain": [
       "RandomForestRegressor()"
      ]
     },
     "execution_count": 7,
     "metadata": {},
     "output_type": "execute_result"
    }
   ],
   "source": [
    "# build a machine learning model\n",
    "from sklearn.ensemble import RandomForestRegressor \n",
    "\n",
    "model = RandomForestRegressor()\n",
    "\n",
    "\n",
    "model.fit(x_train, y_train)\n"
   ]
  },
  {
   "cell_type": "code",
   "execution_count": 8,
   "id": "b59dc36b",
   "metadata": {},
   "outputs": [
    {
     "data": {
      "text/plain": [
       "0.7588799673176236"
      ]
     },
     "execution_count": 8,
     "metadata": {},
     "output_type": "execute_result"
    }
   ],
   "source": [
    "model.score(x_test, y_test) # R^2 of the prediction)"
   ]
  },
  {
   "cell_type": "code",
   "execution_count": 9,
   "id": "0ee1ed4a",
   "metadata": {},
   "outputs": [],
   "source": [
    "# making predictions\n",
    "y_preds = model.predict(x_test)\n"
   ]
  },
  {
   "cell_type": "code",
   "execution_count": 10,
   "id": "e11887cd",
   "metadata": {},
   "outputs": [
    {
     "data": {
      "text/plain": [
       "array([ 578.454,  659.608, 1388.709,  785.186,  286.817, 1342.62 ,\n",
       "        942.447,  783.498, 1279.836, 1019.716])"
      ]
     },
     "execution_count": 10,
     "metadata": {},
     "output_type": "execute_result"
    }
   ],
   "source": [
    "# prediction\n",
    "y_preds[:10]"
   ]
  },
  {
   "cell_type": "code",
   "execution_count": 11,
   "id": "e17bc1fc",
   "metadata": {},
   "outputs": [
    {
     "data": {
      "text/plain": [
       "array([ 609.8,  686.2, 1387.8,  650.8,  853.6, 1293.8,  700.6,  526.4,\n",
       "       1609.1, 1382.9])"
      ]
     },
     "execution_count": 11,
     "metadata": {},
     "output_type": "execute_result"
    }
   ],
   "source": [
    "# truth\n",
    "np.array(y_test[:10])"
   ]
  },
  {
   "cell_type": "code",
   "execution_count": 12,
   "id": "d9bb1d65",
   "metadata": {},
   "outputs": [
    {
     "data": {
      "text/plain": [
       "176.6131451612904"
      ]
     },
     "execution_count": 12,
     "metadata": {},
     "output_type": "execute_result"
    }
   ],
   "source": [
    "# comparing prediction to the truth\n",
    "from sklearn.metrics import mean_absolute_error\n",
    "mean_absolute_error(y_test, y_preds)"
   ]
  },
  {
   "cell_type": "code",
   "execution_count": 13,
   "id": "ec1473f6",
   "metadata": {},
   "outputs": [],
   "source": [
    "# saving the train machine learning model\n",
    "# import pickle\n",
    "\n",
    "# pickle.dump(model, open(\"PYTHON PROJECT\", \"wb\"))"
   ]
  },
  {
   "cell_type": "code",
   "execution_count": 14,
   "id": "fbacd3ac",
   "metadata": {},
   "outputs": [],
   "source": [
    "# loading a saved model\n",
    "# loaded_pickle_model = pickle.load(open(\"PYTHON PROJECT\", \"rb\"))"
   ]
  },
  {
   "cell_type": "code",
   "execution_count": 15,
   "id": "ca4d1a2e",
   "metadata": {},
   "outputs": [
    {
     "data": {
      "text/plain": [
       "176.6131451612904"
      ]
     },
     "execution_count": 15,
     "metadata": {},
     "output_type": "execute_result"
    }
   ],
   "source": [
    "# making predictions\n",
    "# pickle_y_preds = loaded_pickle_model.predict(x_test)\n",
    "\n",
    "# comparing prediction to the truth\n",
    "# from sklearn.metrics import mean_absolute_error\n",
    "# mean_absolute_error(y_test, pickle_y_preds)\n"
   ]
  },
  {
   "cell_type": "code",
   "execution_count": null,
   "id": "e4463d45",
   "metadata": {},
   "outputs": [],
   "source": []
  }
 ],
 "metadata": {
  "kernelspec": {
   "display_name": "Python 3 (ipykernel)",
   "language": "python",
   "name": "python3"
  },
  "language_info": {
   "codemirror_mode": {
    "name": "ipython",
    "version": 3
   },
   "file_extension": ".py",
   "mimetype": "text/x-python",
   "name": "python",
   "nbconvert_exporter": "python",
   "pygments_lexer": "ipython3",
   "version": "3.9.7"
  }
 },
 "nbformat": 4,
 "nbformat_minor": 5
}
