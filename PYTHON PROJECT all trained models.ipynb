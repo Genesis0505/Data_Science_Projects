{
 "cells": [
  {
   "cell_type": "markdown",
   "id": "59865d83",
   "metadata": {},
   "source": [
    "At the start of the project i had to first clean the data for suitable predictions. I used Anaconda with a Jupyter notebook for the environment.\n",
    "\n",
    "After identifying the problem as a Supervised learning problem under Regression, I used two regression models.\n",
    "RidgeRegression and RandomForestRegression. \n",
    "For the RidgeRegression model the r2 or coefficient of determination came out as 0.5938886113707722 = 0.59 .\n",
    "On the otherhand, the RandomForestRegression model came out better with the r2 being 0.739210756607491 = 0.74 .\n",
    "\n",
    "As a result of this i chose to improve the RandomRegression model.\n",
    "Inorder to improve the model, I had to tune the hyperparameters of the model using RandomSeachCV but that did not work. \n",
    "\n",
    "Hence I resolved to using other techniques namely Correlation Analysis and Forward/Backward Attribute Selection.\n",
    "This involved training the model on all the attributes or columns and slowly taking away columns to train the model for backward attribute selection and starting with one column and slowly building it up with more columns for forward attribute selection.\n",
    "\n",
    "When improving the models, certain columns were exemepted because they didnot improve the model or were not needed but the important columns per the description of the project were not taken out.\n",
    "5 models were built with similar code and the same Regression model (RandomForestRegression). \n",
    "The extra 4 models were obtained in addition to the baseline model as a result of removing certain columns that were not needed and adding a weekend column to the data.\n",
    "\n",
    "In the first model(baseine model), r2 is 0.739210756607491 = 0.74\n",
    "\n",
    "In the second model, r2 is 0.7588799673176236 = 0.76\n",
    "\n",
    "In the third model, r2 is 0.7401433051483493 = 0.74\n",
    "\n",
    "In the fourth model, r2 is  0.7550637660281101 = 0.76\n",
    "\n",
    "In the last model, r2 is 0.7438368827358617 = 0.74\n"
   ]
  },
  {
   "cell_type": "markdown",
   "id": "c00da059",
   "metadata": {},
   "source": [
    "## RidgeRegression Model"
   ]
  },
  {
   "cell_type": "code",
   "execution_count": 61,
   "id": "7b55e404",
   "metadata": {},
   "outputs": [],
   "source": [
    "# standard imports\n",
    "import pandas as pd\n",
    "import numpy as np\n",
    "\n",
    "df = pd.read_excel(\"Statistical Analysis Base Data.xlsx\")"
   ]
  },
  {
   "cell_type": "code",
   "execution_count": 62,
   "id": "8d1a18cf",
   "metadata": {},
   "outputs": [
    {
     "data": {
      "text/plain": [
       "array([[ 1. ,  0. ,  2. , ...,  0. , 12.3, 24. ],\n",
       "       [ 1. ,  0. ,  3. , ...,  0. ,  8. , 44. ],\n",
       "       [ 1. ,  0. ,  4. , ...,  0. , 12.2, 42. ],\n",
       "       ...,\n",
       "       [ 1. ,  0. ,  5. , ...,  0. ,  2.3,  0. ],\n",
       "       [ 1. ,  0. ,  6. , ...,  0. ,  8.7, 18. ],\n",
       "       [ 1. ,  0. ,  7. , ...,  0. ,  2.5, 30. ]])"
      ]
     },
     "execution_count": 62,
     "metadata": {},
     "output_type": "execute_result"
    }
   ],
   "source": [
    "#split into x/y\n",
    "x = df.drop(\"Food sales\", axis=1) \n",
    "y = df[\"Food sales\"]\n",
    " \n",
    "# turn the categories into numbers inorder to build the prediction model\n",
    "from sklearn.preprocessing import OneHotEncoder\n",
    "from sklearn.compose import ColumnTransformer\n",
    "\n",
    "categorical_features = [\"Public Holiday?\"]\n",
    "one_hot = OneHotEncoder()\n",
    "transformer = ColumnTransformer([(\"one_hot\", \n",
    "                                   one_hot,\n",
    "                                   categorical_features)],\n",
    "                                   remainder=\"passthrough\")\n",
    "\n",
    "transformed_x = transformer.fit_transform(x)\n",
    "transformed_x\n"
   ]
  },
  {
   "cell_type": "code",
   "execution_count": 63,
   "id": "a761d66e",
   "metadata": {},
   "outputs": [
    {
     "data": {
      "text/plain": [
       "0.5938886113707722"
      ]
     },
     "execution_count": 63,
     "metadata": {},
     "output_type": "execute_result"
    }
   ],
   "source": [
    "# split data into training and test sets\n",
    "from sklearn.model_selection import train_test_split\n",
    "\n",
    "\n",
    "# setup a random seed\n",
    "np.random.seed(42)\n",
    "x_train, x_test, y_train, y_test = train_test_split(transformed_x, \n",
    "                                                    y, \n",
    "                                                    test_size=0.2)\n",
    "# trying the Ridge Regression medel\n",
    "from sklearn.linear_model import Ridge\n",
    "\n",
    "\n",
    "# Instantiate Ridge model and fit the data\n",
    "model = Ridge()\n",
    "model.fit(x_train, y_train)\n",
    "\n",
    "# check the score of the Ridge model on test data\n",
    "model.score(x_test, y_test)\n",
    "\n"
   ]
  },
  {
   "cell_type": "markdown",
   "id": "03aeea21",
   "metadata": {},
   "source": [
    "## RandomForestRegression model (first model(baseine model))"
   ]
  },
  {
   "cell_type": "code",
   "execution_count": 64,
   "id": "edae188e",
   "metadata": {},
   "outputs": [],
   "source": [
    "# standard imports\n",
    "import pandas as pd\n",
    "import numpy as np\n",
    "df = pd.read_excel(\"Statistical Analysis Base Data.xlsx\")\n",
    "\n"
   ]
  },
  {
   "cell_type": "code",
   "execution_count": 65,
   "id": "7f4a02f3",
   "metadata": {},
   "outputs": [],
   "source": [
    "#split into x/y\n",
    "x = df.drop(\"Food sales\", axis=1) \n",
    "y = df[\"Food sales\"]\n"
   ]
  },
  {
   "cell_type": "code",
   "execution_count": 66,
   "id": "11b32982",
   "metadata": {},
   "outputs": [
    {
     "data": {
      "text/plain": [
       "array([[ 1. ,  0. ,  2. , ...,  0. , 12.3, 24. ],\n",
       "       [ 1. ,  0. ,  3. , ...,  0. ,  8. , 44. ],\n",
       "       [ 1. ,  0. ,  4. , ...,  0. , 12.2, 42. ],\n",
       "       ...,\n",
       "       [ 1. ,  0. ,  5. , ...,  0. ,  2.3,  0. ],\n",
       "       [ 1. ,  0. ,  6. , ...,  0. ,  8.7, 18. ],\n",
       "       [ 1. ,  0. ,  7. , ...,  0. ,  2.5, 30. ]])"
      ]
     },
     "execution_count": 66,
     "metadata": {},
     "output_type": "execute_result"
    }
   ],
   "source": [
    "# turn the categories into numbers\n",
    "from sklearn.preprocessing import OneHotEncoder\n",
    "from sklearn.compose import ColumnTransformer\n",
    "\n",
    "categorical_features = [\"Public Holiday?\"]\n",
    "one_hot = OneHotEncoder()\n",
    "transformer = ColumnTransformer([(\"one_hot\", \n",
    "                                   one_hot,\n",
    "                                   categorical_features)],\n",
    "                                   remainder=\"passthrough\")\n",
    "\n",
    "transformed_x = transformer.fit_transform(x)\n",
    "transformed_x\n"
   ]
  },
  {
   "cell_type": "code",
   "execution_count": 67,
   "id": "ae1c2cce",
   "metadata": {},
   "outputs": [],
   "source": [
    "# split data into training and test sets\n",
    "\n",
    "np.random.seed(42)\n",
    "from sklearn.model_selection import train_test_split\n",
    "\n",
    "x_train, x_test, y_train, y_test = train_test_split(transformed_x, \n",
    "                                                    y, \n",
    "                                                    test_size=0.2)"
   ]
  },
  {
   "cell_type": "code",
   "execution_count": 68,
   "id": "44d82df2",
   "metadata": {},
   "outputs": [
    {
     "data": {
      "text/plain": [
       "RandomForestRegressor()"
      ]
     },
     "execution_count": 68,
     "metadata": {},
     "output_type": "execute_result"
    }
   ],
   "source": [
    "# build a machine learning model\n",
    "from sklearn.ensemble import RandomForestRegressor \n",
    "\n",
    "model_1 = RandomForestRegressor()\n",
    "\n",
    "\n",
    "model_1.fit(x_train, y_train)\n"
   ]
  },
  {
   "cell_type": "code",
   "execution_count": 69,
   "id": "ed4da7e0",
   "metadata": {},
   "outputs": [
    {
     "data": {
      "text/plain": [
       "0.739210756607491"
      ]
     },
     "execution_count": 69,
     "metadata": {},
     "output_type": "execute_result"
    }
   ],
   "source": [
    "model_1.score(x_test, y_test)"
   ]
  },
  {
   "cell_type": "code",
   "execution_count": 97,
   "id": "7d2e398f",
   "metadata": {},
   "outputs": [],
   "source": [
    "# making predictions\n",
    "y_preds = model_1.predict(x_test)"
   ]
  },
  {
   "cell_type": "code",
   "execution_count": 132,
   "id": "72f8b175",
   "metadata": {},
   "outputs": [],
   "source": [
    "#y_test.head()"
   ]
  },
  {
   "cell_type": "code",
   "execution_count": 146,
   "id": "b4cfdf99",
   "metadata": {},
   "outputs": [
    {
     "name": "stdout",
     "output_type": "stream",
     "text": [
      "x=[1.0000e+00 0.0000e+00 7.0000e+00 4.4017e+04 2.0400e+01 2.7500e+01\n",
      " 2.3200e+01 0.0000e+00 3.3000e+00 5.5000e+01], Predicted=1144.565\n"
     ]
    }
   ],
   "source": [
    "#for i in range(len(x_test)):\n",
    " #   print(\"x=%s, Predicted=%s\" % (x_test[i], y_preds[i]))\n",
    "#inverse_transformer(x_test)\n",
    "print(\"x=%s, Predicted=%s\" % (x_test[9], y_preds[9])) \n"
   ]
  },
  {
   "cell_type": "code",
   "execution_count": 147,
   "id": "4bbf1dea",
   "metadata": {},
   "outputs": [
    {
     "data": {
      "text/html": [
       "<div>\n",
       "<style scoped>\n",
       "    .dataframe tbody tr th:only-of-type {\n",
       "        vertical-align: middle;\n",
       "    }\n",
       "\n",
       "    .dataframe tbody tr th {\n",
       "        vertical-align: top;\n",
       "    }\n",
       "\n",
       "    .dataframe thead th {\n",
       "        text-align: right;\n",
       "    }\n",
       "</style>\n",
       "<table border=\"1\" class=\"dataframe\">\n",
       "  <thead>\n",
       "    <tr style=\"text-align: right;\">\n",
       "      <th></th>\n",
       "      <th>actual</th>\n",
       "      <th>prediction</th>\n",
       "    </tr>\n",
       "  </thead>\n",
       "  <tbody>\n",
       "    <tr>\n",
       "      <th>158</th>\n",
       "      <td>212.10</td>\n",
       "      <td>614.1476</td>\n",
       "    </tr>\n",
       "    <tr>\n",
       "      <th>163</th>\n",
       "      <td>785.40</td>\n",
       "      <td>695.4688</td>\n",
       "    </tr>\n",
       "    <tr>\n",
       "      <th>164</th>\n",
       "      <td>1019.10</td>\n",
       "      <td>917.5280</td>\n",
       "    </tr>\n",
       "    <tr>\n",
       "      <th>168</th>\n",
       "      <td>1197.40</td>\n",
       "      <td>908.1138</td>\n",
       "    </tr>\n",
       "    <tr>\n",
       "      <th>173</th>\n",
       "      <td>1152.20</td>\n",
       "      <td>1027.1050</td>\n",
       "    </tr>\n",
       "    <tr>\n",
       "      <th>179</th>\n",
       "      <td>2297.40</td>\n",
       "      <td>1679.1710</td>\n",
       "    </tr>\n",
       "    <tr>\n",
       "      <th>181</th>\n",
       "      <td>273.20</td>\n",
       "      <td>584.0570</td>\n",
       "    </tr>\n",
       "    <tr>\n",
       "      <th>184</th>\n",
       "      <td>526.40</td>\n",
       "      <td>750.6860</td>\n",
       "    </tr>\n",
       "    <tr>\n",
       "      <th>195</th>\n",
       "      <td>1714.30</td>\n",
       "      <td>1406.6300</td>\n",
       "    </tr>\n",
       "    <tr>\n",
       "      <th>196</th>\n",
       "      <td>2092.50</td>\n",
       "      <td>1494.2110</td>\n",
       "    </tr>\n",
       "    <tr>\n",
       "      <th>197</th>\n",
       "      <td>1124.60</td>\n",
       "      <td>909.0310</td>\n",
       "    </tr>\n",
       "    <tr>\n",
       "      <th>198</th>\n",
       "      <td>1219.70</td>\n",
       "      <td>958.1540</td>\n",
       "    </tr>\n",
       "    <tr>\n",
       "      <th>206</th>\n",
       "      <td>1109.00</td>\n",
       "      <td>1200.7630</td>\n",
       "    </tr>\n",
       "    <tr>\n",
       "      <th>210</th>\n",
       "      <td>845.80</td>\n",
       "      <td>940.0400</td>\n",
       "    </tr>\n",
       "    <tr>\n",
       "      <th>224</th>\n",
       "      <td>1296.50</td>\n",
       "      <td>1207.7980</td>\n",
       "    </tr>\n",
       "    <tr>\n",
       "      <th>226</th>\n",
       "      <td>943.80</td>\n",
       "      <td>1331.5100</td>\n",
       "    </tr>\n",
       "    <tr>\n",
       "      <th>230</th>\n",
       "      <td>496.80</td>\n",
       "      <td>505.4420</td>\n",
       "    </tr>\n",
       "    <tr>\n",
       "      <th>239</th>\n",
       "      <td>883.40</td>\n",
       "      <td>812.1170</td>\n",
       "    </tr>\n",
       "    <tr>\n",
       "      <th>242</th>\n",
       "      <td>1275.80</td>\n",
       "      <td>1369.5980</td>\n",
       "    </tr>\n",
       "    <tr>\n",
       "      <th>244</th>\n",
       "      <td>1609.10</td>\n",
       "      <td>1348.8000</td>\n",
       "    </tr>\n",
       "    <tr>\n",
       "      <th>251</th>\n",
       "      <td>444.80</td>\n",
       "      <td>495.4760</td>\n",
       "    </tr>\n",
       "    <tr>\n",
       "      <th>259</th>\n",
       "      <td>1559.60</td>\n",
       "      <td>1512.7280</td>\n",
       "    </tr>\n",
       "    <tr>\n",
       "      <th>274</th>\n",
       "      <td>683.90</td>\n",
       "      <td>685.3580</td>\n",
       "    </tr>\n",
       "    <tr>\n",
       "      <th>284</th>\n",
       "      <td>1487.70</td>\n",
       "      <td>1107.1730</td>\n",
       "    </tr>\n",
       "    <tr>\n",
       "      <th>286</th>\n",
       "      <td>258.30</td>\n",
       "      <td>505.2360</td>\n",
       "    </tr>\n",
       "    <tr>\n",
       "      <th>288</th>\n",
       "      <td>609.80</td>\n",
       "      <td>587.0060</td>\n",
       "    </tr>\n",
       "    <tr>\n",
       "      <th>289</th>\n",
       "      <td>1258.40</td>\n",
       "      <td>1039.6570</td>\n",
       "    </tr>\n",
       "    <tr>\n",
       "      <th>294</th>\n",
       "      <td>580.20</td>\n",
       "      <td>777.3610</td>\n",
       "    </tr>\n",
       "    <tr>\n",
       "      <th>296</th>\n",
       "      <td>610.14</td>\n",
       "      <td>922.1720</td>\n",
       "    </tr>\n",
       "    <tr>\n",
       "      <th>300</th>\n",
       "      <td>485.00</td>\n",
       "      <td>699.7240</td>\n",
       "    </tr>\n",
       "    <tr>\n",
       "      <th>305</th>\n",
       "      <td>185.00</td>\n",
       "      <td>533.5470</td>\n",
       "    </tr>\n",
       "  </tbody>\n",
       "</table>\n",
       "</div>"
      ],
      "text/plain": [
       "      actual  prediction\n",
       "158   212.10    614.1476\n",
       "163   785.40    695.4688\n",
       "164  1019.10    917.5280\n",
       "168  1197.40    908.1138\n",
       "173  1152.20   1027.1050\n",
       "179  2297.40   1679.1710\n",
       "181   273.20    584.0570\n",
       "184   526.40    750.6860\n",
       "195  1714.30   1406.6300\n",
       "196  2092.50   1494.2110\n",
       "197  1124.60    909.0310\n",
       "198  1219.70    958.1540\n",
       "206  1109.00   1200.7630\n",
       "210   845.80    940.0400\n",
       "224  1296.50   1207.7980\n",
       "226   943.80   1331.5100\n",
       "230   496.80    505.4420\n",
       "239   883.40    812.1170\n",
       "242  1275.80   1369.5980\n",
       "244  1609.10   1348.8000\n",
       "251   444.80    495.4760\n",
       "259  1559.60   1512.7280\n",
       "274   683.90    685.3580\n",
       "284  1487.70   1107.1730\n",
       "286   258.30    505.2360\n",
       "288   609.80    587.0060\n",
       "289  1258.40   1039.6570\n",
       "294   580.20    777.3610\n",
       "296   610.14    922.1720\n",
       "300   485.00    699.7240\n",
       "305   185.00    533.5470"
      ]
     },
     "execution_count": 147,
     "metadata": {},
     "output_type": "execute_result"
    }
   ],
   "source": [
    "#y_test.head(20)\n",
    "form = pd.DataFrame({\"actual\": y_test, \"prediction\": y_preds}) .sort_index()\n",
    "form.tail(31)"
   ]
  },
  {
   "cell_type": "code",
   "execution_count": null,
   "id": "95d39c85",
   "metadata": {},
   "outputs": [],
   "source": []
  },
  {
   "cell_type": "code",
   "execution_count": 108,
   "id": "b46de3fa",
   "metadata": {},
   "outputs": [
    {
     "data": {
      "text/plain": [
       "array([ 587.006 ,  681.178 , 1427.111 ,  776.647 ,  283.831 , 1355.715 ,\n",
       "        901.378 ,  750.686 , 1348.8   , 1144.565 , 1530.211 ,  695.4688,\n",
       "        777.361 ,  533.547 , 1107.173 , 1039.657 , 1391.09  ,  685.114 ,\n",
       "        917.528 ,  908.1138,  830.143 , 1010.116 ,  914.27  , 1200.763 ,\n",
       "       1484.439 , 1027.105 ,  783.437 , 1302.261 ,  685.358 ,  495.476 ,\n",
       "        774.388 ,  949.35  , 1564.916 , 1512.728 ,  769.805 ,  835.816 ,\n",
       "       1373.971 , 1282.557 ,  909.031 ,  354.501 ,  728.943 ,  370.456 ,\n",
       "       1679.171 , 1369.598 ,  922.172 , 1494.211 , 1331.51  ,  693.482 ,\n",
       "        505.236 ,  813.115 ,  735.029 ,  812.117 , 1050.907 ,  806.1   ,\n",
       "        584.057 ,  505.442 ,  699.724 ,  958.154 , 1406.63  ,  940.04  ,\n",
       "       1207.798 ,  614.1476])"
      ]
     },
     "execution_count": 108,
     "metadata": {},
     "output_type": "execute_result"
    }
   ],
   "source": [
    "# prediction\n",
    "y_preds"
   ]
  },
  {
   "cell_type": "code",
   "execution_count": 106,
   "id": "7d23372c",
   "metadata": {},
   "outputs": [],
   "source": [
    "# truth\n",
    "#np.array(y)"
   ]
  },
  {
   "cell_type": "code",
   "execution_count": 49,
   "id": "2cfa40ca",
   "metadata": {},
   "outputs": [
    {
     "data": {
      "text/plain": [
       "178.56635483870977"
      ]
     },
     "execution_count": 49,
     "metadata": {},
     "output_type": "execute_result"
    }
   ],
   "source": [
    "# comparing prediction to the truth\n",
    "from sklearn.metrics import mean_absolute_error\n",
    "mean_absolute_error(y_test, y_preds)"
   ]
  },
  {
   "cell_type": "markdown",
   "id": "a2e242e5",
   "metadata": {},
   "source": [
    "### evaluating the model using evaluation metrics for regression model"
   ]
  },
  {
   "cell_type": "code",
   "execution_count": 15,
   "id": "befc3662",
   "metadata": {},
   "outputs": [
    {
     "data": {
      "text/plain": [
       "0.739210756607491"
      ]
     },
     "execution_count": 15,
     "metadata": {},
     "output_type": "execute_result"
    }
   ],
   "source": [
    "# Evaluating a machine learning model\n",
    "model_1.score(x_test, y_test)  # Returns the coefficient of determination R^2 of the prediction)"
   ]
  },
  {
   "cell_type": "code",
   "execution_count": 16,
   "id": "9cc63bbf",
   "metadata": {},
   "outputs": [
    {
     "data": {
      "text/plain": [
       "978.1941935483871"
      ]
     },
     "execution_count": 16,
     "metadata": {},
     "output_type": "execute_result"
    }
   ],
   "source": [
    "from sklearn.metrics import r2_score\n",
    "\n",
    "# fill an arrar with y_test mean\n",
    "y_test_mean = np.full(len(y_test), y_test.mean())\n",
    "\n",
    "# predicting the mean\n",
    "y_test.mean()\n"
   ]
  },
  {
   "cell_type": "code",
   "execution_count": 17,
   "id": "64e65af2",
   "metadata": {},
   "outputs": [
    {
     "data": {
      "text/plain": [
       "array([978.19419355, 978.19419355, 978.19419355, 978.19419355,\n",
       "       978.19419355, 978.19419355, 978.19419355, 978.19419355,\n",
       "       978.19419355, 978.19419355, 978.19419355, 978.19419355,\n",
       "       978.19419355, 978.19419355, 978.19419355, 978.19419355,\n",
       "       978.19419355, 978.19419355, 978.19419355, 978.19419355,\n",
       "       978.19419355, 978.19419355, 978.19419355, 978.19419355,\n",
       "       978.19419355, 978.19419355, 978.19419355, 978.19419355,\n",
       "       978.19419355, 978.19419355, 978.19419355, 978.19419355,\n",
       "       978.19419355, 978.19419355, 978.19419355, 978.19419355,\n",
       "       978.19419355, 978.19419355, 978.19419355, 978.19419355,\n",
       "       978.19419355, 978.19419355, 978.19419355, 978.19419355,\n",
       "       978.19419355, 978.19419355, 978.19419355, 978.19419355,\n",
       "       978.19419355, 978.19419355, 978.19419355, 978.19419355,\n",
       "       978.19419355, 978.19419355, 978.19419355, 978.19419355,\n",
       "       978.19419355, 978.19419355, 978.19419355, 978.19419355,\n",
       "       978.19419355, 978.19419355])"
      ]
     },
     "execution_count": 17,
     "metadata": {},
     "output_type": "execute_result"
    }
   ],
   "source": [
    "y_test_mean # this is an array full of the above values "
   ]
  },
  {
   "cell_type": "code",
   "execution_count": 18,
   "id": "d9bbec66",
   "metadata": {},
   "outputs": [
    {
     "data": {
      "text/plain": [
       "0.0"
      ]
     },
     "execution_count": 18,
     "metadata": {},
     "output_type": "execute_result"
    }
   ],
   "source": [
    "r2_score(y_test, y_test_mean) # If all the model does is predict the mean of the target the R^2 value will be 0 "
   ]
  },
  {
   "cell_type": "code",
   "execution_count": 19,
   "id": "c841fcce",
   "metadata": {},
   "outputs": [
    {
     "data": {
      "text/plain": [
       "1.0"
      ]
     },
     "execution_count": 19,
     "metadata": {},
     "output_type": "execute_result"
    }
   ],
   "source": [
    "r2_score(y_test, y_test) # if model perfectly predicts a range of numbers its R^2 value will be 1"
   ]
  },
  {
   "cell_type": "markdown",
   "id": "0d62d524",
   "metadata": {},
   "source": [
    "## MAE"
   ]
  },
  {
   "cell_type": "code",
   "execution_count": 20,
   "id": "501ce816",
   "metadata": {},
   "outputs": [
    {
     "data": {
      "text/plain": [
       "178.56635483870977"
      ]
     },
     "execution_count": 20,
     "metadata": {},
     "output_type": "execute_result"
    }
   ],
   "source": [
    "# mean absolute error\n",
    "from sklearn.metrics import mean_absolute_error\n",
    "\n",
    "y_preds = model_1.predict(x_test)\n",
    "mae = mean_absolute_error(y_test, y_preds)\n",
    "mae\n"
   ]
  },
  {
   "cell_type": "markdown",
   "id": "60baa7d8",
   "metadata": {},
   "source": [
    "## MSE"
   ]
  },
  {
   "cell_type": "code",
   "execution_count": 21,
   "id": "3b69380d",
   "metadata": {},
   "outputs": [
    {
     "data": {
      "text/plain": [
       "56215.031616687724"
      ]
     },
     "execution_count": 21,
     "metadata": {},
     "output_type": "execute_result"
    }
   ],
   "source": [
    "# mean squared error     \n",
    "# mse will always be higher than mean absolute error cause it squares the errors\n",
    "\n",
    "from sklearn.metrics import mean_squared_error\n",
    "\n",
    "y_preds = model_1.predict(x_test)\n",
    "mse = mean_squared_error(y_test, y_preds)\n",
    "mse\n"
   ]
  },
  {
   "cell_type": "markdown",
   "id": "228c4a77",
   "metadata": {},
   "source": [
    "## Improving the model\n",
    "\n",
    "### second model"
   ]
  },
  {
   "cell_type": "code",
   "execution_count": 148,
   "id": "9ae2bba1",
   "metadata": {},
   "outputs": [
    {
     "data": {
      "text/plain": [
       "Index(['Weekday (Mon = 1; Sun = 7)', 'Date', 'Public Holiday?', 'Avg. Temp',\n",
       "       'Precipitation', 'Sunshine Hours', 'Max. Wind (km/h)', 'Food sales'],\n",
       "      dtype='object')"
      ]
     },
     "execution_count": 148,
     "metadata": {},
     "output_type": "execute_result"
    }
   ],
   "source": [
    "df = pd.read_excel(\"Statistical Analysis Base Data train1.xlsx\")\n",
    "\n",
    "df.columns"
   ]
  },
  {
   "cell_type": "code",
   "execution_count": 149,
   "id": "35b84b1a",
   "metadata": {},
   "outputs": [],
   "source": [
    "#split into x/y\n",
    "x = df.drop(\"Food sales\", axis=1) \n",
    "y = df[\"Food sales\"]\n"
   ]
  },
  {
   "cell_type": "code",
   "execution_count": 150,
   "id": "c3ba7b72",
   "metadata": {},
   "outputs": [
    {
     "data": {
      "text/plain": [
       "array([[ 1. ,  0. ,  2. , ...,  0. , 12.3, 24. ],\n",
       "       [ 1. ,  0. ,  3. , ...,  0. ,  8. , 44. ],\n",
       "       [ 1. ,  0. ,  4. , ...,  0. , 12.2, 42. ],\n",
       "       ...,\n",
       "       [ 1. ,  0. ,  5. , ...,  0. ,  2.3,  0. ],\n",
       "       [ 1. ,  0. ,  6. , ...,  0. ,  8.7, 18. ],\n",
       "       [ 1. ,  0. ,  7. , ...,  0. ,  2.5, 30. ]])"
      ]
     },
     "execution_count": 150,
     "metadata": {},
     "output_type": "execute_result"
    }
   ],
   "source": [
    "# turn the categories into numbers\n",
    "from sklearn.preprocessing import OneHotEncoder\n",
    "from sklearn.compose import ColumnTransformer\n",
    "\n",
    "categorical_features = [\"Public Holiday?\"]\n",
    "one_hot = OneHotEncoder()\n",
    "transformer = ColumnTransformer([(\"one_hot\", \n",
    "                                   one_hot,\n",
    "                                   categorical_features)],\n",
    "                                   remainder=\"passthrough\")\n",
    "\n",
    "transformed_x = transformer.fit_transform(x)\n",
    "transformed_x"
   ]
  },
  {
   "cell_type": "code",
   "execution_count": 151,
   "id": "458e7778",
   "metadata": {},
   "outputs": [],
   "source": [
    "# split data into training and test sets\n",
    "\n",
    "np.random.seed(42)\n",
    "from sklearn.model_selection import train_test_split\n",
    "\n",
    "x_train, x_test, y_train, y_test = train_test_split(transformed_x, \n",
    "                                                    y, \n",
    "                                                    test_size=0.2)"
   ]
  },
  {
   "cell_type": "code",
   "execution_count": 152,
   "id": "e0bff682",
   "metadata": {},
   "outputs": [
    {
     "data": {
      "text/plain": [
       "RandomForestRegressor()"
      ]
     },
     "execution_count": 152,
     "metadata": {},
     "output_type": "execute_result"
    }
   ],
   "source": [
    "# build a machine learning model\n",
    "from sklearn.ensemble import RandomForestRegressor \n",
    "\n",
    "model_2 = RandomForestRegressor()\n",
    "\n",
    "\n",
    "model_2.fit(x_train, y_train)\n"
   ]
  },
  {
   "cell_type": "code",
   "execution_count": 153,
   "id": "5ada71d4",
   "metadata": {},
   "outputs": [
    {
     "data": {
      "text/plain": [
       "0.7588799673176236"
      ]
     },
     "execution_count": 153,
     "metadata": {},
     "output_type": "execute_result"
    }
   ],
   "source": [
    "model_2.score(x_test, y_test)"
   ]
  },
  {
   "cell_type": "code",
   "execution_count": 154,
   "id": "ddc5cf56",
   "metadata": {},
   "outputs": [],
   "source": [
    "# making predictions\n",
    "y_preds = model_2.predict(x_test)"
   ]
  },
  {
   "cell_type": "code",
   "execution_count": 157,
   "id": "d255d2b3",
   "metadata": {},
   "outputs": [
    {
     "data": {
      "text/html": [
       "<div>\n",
       "<style scoped>\n",
       "    .dataframe tbody tr th:only-of-type {\n",
       "        vertical-align: middle;\n",
       "    }\n",
       "\n",
       "    .dataframe tbody tr th {\n",
       "        vertical-align: top;\n",
       "    }\n",
       "\n",
       "    .dataframe thead th {\n",
       "        text-align: right;\n",
       "    }\n",
       "</style>\n",
       "<table border=\"1\" class=\"dataframe\">\n",
       "  <thead>\n",
       "    <tr style=\"text-align: right;\">\n",
       "      <th></th>\n",
       "      <th>actual</th>\n",
       "      <th>prediction</th>\n",
       "    </tr>\n",
       "  </thead>\n",
       "  <tbody>\n",
       "    <tr>\n",
       "      <th>158</th>\n",
       "      <td>212.10</td>\n",
       "      <td>691.085</td>\n",
       "    </tr>\n",
       "    <tr>\n",
       "      <th>163</th>\n",
       "      <td>785.40</td>\n",
       "      <td>737.184</td>\n",
       "    </tr>\n",
       "    <tr>\n",
       "      <th>164</th>\n",
       "      <td>1019.10</td>\n",
       "      <td>1073.210</td>\n",
       "    </tr>\n",
       "    <tr>\n",
       "      <th>168</th>\n",
       "      <td>1197.40</td>\n",
       "      <td>1027.019</td>\n",
       "    </tr>\n",
       "    <tr>\n",
       "      <th>173</th>\n",
       "      <td>1152.20</td>\n",
       "      <td>1180.719</td>\n",
       "    </tr>\n",
       "    <tr>\n",
       "      <th>179</th>\n",
       "      <td>2297.40</td>\n",
       "      <td>1651.154</td>\n",
       "    </tr>\n",
       "    <tr>\n",
       "      <th>181</th>\n",
       "      <td>273.20</td>\n",
       "      <td>601.041</td>\n",
       "    </tr>\n",
       "    <tr>\n",
       "      <th>184</th>\n",
       "      <td>526.40</td>\n",
       "      <td>783.498</td>\n",
       "    </tr>\n",
       "    <tr>\n",
       "      <th>195</th>\n",
       "      <td>1714.30</td>\n",
       "      <td>1524.361</td>\n",
       "    </tr>\n",
       "    <tr>\n",
       "      <th>196</th>\n",
       "      <td>2092.50</td>\n",
       "      <td>1638.918</td>\n",
       "    </tr>\n",
       "    <tr>\n",
       "      <th>197</th>\n",
       "      <td>1124.60</td>\n",
       "      <td>952.897</td>\n",
       "    </tr>\n",
       "    <tr>\n",
       "      <th>198</th>\n",
       "      <td>1219.70</td>\n",
       "      <td>1026.418</td>\n",
       "    </tr>\n",
       "    <tr>\n",
       "      <th>206</th>\n",
       "      <td>1109.00</td>\n",
       "      <td>1211.462</td>\n",
       "    </tr>\n",
       "    <tr>\n",
       "      <th>210</th>\n",
       "      <td>845.80</td>\n",
       "      <td>918.895</td>\n",
       "    </tr>\n",
       "    <tr>\n",
       "      <th>224</th>\n",
       "      <td>1296.50</td>\n",
       "      <td>1180.618</td>\n",
       "    </tr>\n",
       "    <tr>\n",
       "      <th>226</th>\n",
       "      <td>943.80</td>\n",
       "      <td>1198.950</td>\n",
       "    </tr>\n",
       "    <tr>\n",
       "      <th>230</th>\n",
       "      <td>496.80</td>\n",
       "      <td>463.059</td>\n",
       "    </tr>\n",
       "    <tr>\n",
       "      <th>239</th>\n",
       "      <td>883.40</td>\n",
       "      <td>828.375</td>\n",
       "    </tr>\n",
       "    <tr>\n",
       "      <th>242</th>\n",
       "      <td>1275.80</td>\n",
       "      <td>1322.066</td>\n",
       "    </tr>\n",
       "    <tr>\n",
       "      <th>244</th>\n",
       "      <td>1609.10</td>\n",
       "      <td>1279.836</td>\n",
       "    </tr>\n",
       "    <tr>\n",
       "      <th>251</th>\n",
       "      <td>444.80</td>\n",
       "      <td>502.173</td>\n",
       "    </tr>\n",
       "    <tr>\n",
       "      <th>259</th>\n",
       "      <td>1559.60</td>\n",
       "      <td>1461.366</td>\n",
       "    </tr>\n",
       "    <tr>\n",
       "      <th>274</th>\n",
       "      <td>683.90</td>\n",
       "      <td>735.594</td>\n",
       "    </tr>\n",
       "    <tr>\n",
       "      <th>284</th>\n",
       "      <td>1487.70</td>\n",
       "      <td>1102.200</td>\n",
       "    </tr>\n",
       "    <tr>\n",
       "      <th>286</th>\n",
       "      <td>258.30</td>\n",
       "      <td>535.360</td>\n",
       "    </tr>\n",
       "    <tr>\n",
       "      <th>288</th>\n",
       "      <td>609.80</td>\n",
       "      <td>578.454</td>\n",
       "    </tr>\n",
       "    <tr>\n",
       "      <th>289</th>\n",
       "      <td>1258.40</td>\n",
       "      <td>1023.927</td>\n",
       "    </tr>\n",
       "    <tr>\n",
       "      <th>294</th>\n",
       "      <td>580.20</td>\n",
       "      <td>784.730</td>\n",
       "    </tr>\n",
       "    <tr>\n",
       "      <th>296</th>\n",
       "      <td>610.14</td>\n",
       "      <td>922.849</td>\n",
       "    </tr>\n",
       "    <tr>\n",
       "      <th>300</th>\n",
       "      <td>485.00</td>\n",
       "      <td>685.675</td>\n",
       "    </tr>\n",
       "    <tr>\n",
       "      <th>305</th>\n",
       "      <td>185.00</td>\n",
       "      <td>541.937</td>\n",
       "    </tr>\n",
       "  </tbody>\n",
       "</table>\n",
       "</div>"
      ],
      "text/plain": [
       "      actual  prediction\n",
       "158   212.10     691.085\n",
       "163   785.40     737.184\n",
       "164  1019.10    1073.210\n",
       "168  1197.40    1027.019\n",
       "173  1152.20    1180.719\n",
       "179  2297.40    1651.154\n",
       "181   273.20     601.041\n",
       "184   526.40     783.498\n",
       "195  1714.30    1524.361\n",
       "196  2092.50    1638.918\n",
       "197  1124.60     952.897\n",
       "198  1219.70    1026.418\n",
       "206  1109.00    1211.462\n",
       "210   845.80     918.895\n",
       "224  1296.50    1180.618\n",
       "226   943.80    1198.950\n",
       "230   496.80     463.059\n",
       "239   883.40     828.375\n",
       "242  1275.80    1322.066\n",
       "244  1609.10    1279.836\n",
       "251   444.80     502.173\n",
       "259  1559.60    1461.366\n",
       "274   683.90     735.594\n",
       "284  1487.70    1102.200\n",
       "286   258.30     535.360\n",
       "288   609.80     578.454\n",
       "289  1258.40    1023.927\n",
       "294   580.20     784.730\n",
       "296   610.14     922.849\n",
       "300   485.00     685.675\n",
       "305   185.00     541.937"
      ]
     },
     "execution_count": 157,
     "metadata": {},
     "output_type": "execute_result"
    }
   ],
   "source": [
    "#y_test.head(20)\n",
    "form = pd.DataFrame({\"actual\": y_test, \"prediction\": y_preds}) .sort_index()\n",
    "form.tail(31)"
   ]
  },
  {
   "cell_type": "code",
   "execution_count": 38,
   "id": "0f148194",
   "metadata": {},
   "outputs": [
    {
     "data": {
      "text/plain": [
       "array([ 578.454,  659.608, 1388.709,  785.186,  286.817, 1342.62 ,\n",
       "        942.447,  783.498, 1279.836, 1019.716])"
      ]
     },
     "execution_count": 38,
     "metadata": {},
     "output_type": "execute_result"
    }
   ],
   "source": [
    "# prediction\n",
    "y_preds[:10]"
   ]
  },
  {
   "cell_type": "code",
   "execution_count": 39,
   "id": "b936461a",
   "metadata": {},
   "outputs": [
    {
     "data": {
      "text/plain": [
       "array([ 609.8,  686.2, 1387.8,  650.8,  853.6, 1293.8,  700.6,  526.4,\n",
       "       1609.1, 1382.9])"
      ]
     },
     "execution_count": 39,
     "metadata": {},
     "output_type": "execute_result"
    }
   ],
   "source": [
    "# truth\n",
    "np.array(y_test[:10])"
   ]
  },
  {
   "cell_type": "code",
   "execution_count": 28,
   "id": "833b1e41",
   "metadata": {},
   "outputs": [
    {
     "data": {
      "text/plain": [
       "178.56635483870977"
      ]
     },
     "execution_count": 28,
     "metadata": {},
     "output_type": "execute_result"
    }
   ],
   "source": [
    "# comparing prediction to the truth\n",
    "from sklearn.metrics import mean_absolute_error\n",
    "mean_absolute_error(y_test, y_preds)"
   ]
  },
  {
   "cell_type": "markdown",
   "id": "ea57747c",
   "metadata": {},
   "source": [
    "### third model"
   ]
  },
  {
   "cell_type": "code",
   "execution_count": 158,
   "id": "9706c7f0",
   "metadata": {},
   "outputs": [
    {
     "data": {
      "text/plain": [
       "Index(['Weekday (Mon = 1; Sun = 7)', 'Date', 'Public Holiday?', 'Weekend?',\n",
       "       'Min. Temp', 'Max. Temp', 'Avg. Temp', 'Precipitation',\n",
       "       'Sunshine Hours', 'Max. Wind (km/h)', 'Food sales'],\n",
       "      dtype='object')"
      ]
     },
     "execution_count": 158,
     "metadata": {},
     "output_type": "execute_result"
    }
   ],
   "source": [
    "df = pd.read_excel(\"Statistical Analysis Base Data train2.xlsx\")\n",
    "\n",
    "df.columns"
   ]
  },
  {
   "cell_type": "code",
   "execution_count": 159,
   "id": "57c2b90c",
   "metadata": {},
   "outputs": [],
   "source": [
    "#split into x/y\n",
    "x = df.drop(\"Food sales\", axis=1) \n",
    "y = df[\"Food sales\"]\n"
   ]
  },
  {
   "cell_type": "code",
   "execution_count": 160,
   "id": "a32a37e2",
   "metadata": {},
   "outputs": [
    {
     "data": {
      "text/plain": [
       "array([[ 1. ,  0. ,  1. , ...,  0. , 12.3, 24. ],\n",
       "       [ 1. ,  0. ,  1. , ...,  0. ,  8. , 44. ],\n",
       "       [ 1. ,  0. ,  1. , ...,  0. , 12.2, 42. ],\n",
       "       ...,\n",
       "       [ 1. ,  0. ,  1. , ...,  0. ,  2.3,  0. ],\n",
       "       [ 1. ,  0. ,  0. , ...,  0. ,  8.7, 18. ],\n",
       "       [ 1. ,  0. ,  0. , ...,  0. ,  2.5, 30. ]])"
      ]
     },
     "execution_count": 160,
     "metadata": {},
     "output_type": "execute_result"
    }
   ],
   "source": [
    "# turn the categories into numbers\n",
    "from sklearn.preprocessing import OneHotEncoder\n",
    "from sklearn.compose import ColumnTransformer\n",
    "\n",
    "categorical_features = [\"Public Holiday?\", \"Weekend?\"]\n",
    "one_hot = OneHotEncoder()\n",
    "transformer = ColumnTransformer([(\"one_hot\", \n",
    "                                   one_hot,\n",
    "                                   categorical_features)],\n",
    "                                   remainder=\"passthrough\")\n",
    "\n",
    "transformed_x = transformer.fit_transform(x)\n",
    "transformed_x"
   ]
  },
  {
   "cell_type": "code",
   "execution_count": 161,
   "id": "1b197202",
   "metadata": {},
   "outputs": [],
   "source": [
    "# split data into training and test sets\n",
    "\n",
    "np.random.seed(42)\n",
    "from sklearn.model_selection import train_test_split\n",
    "\n",
    "x_train, x_test, y_train, y_test = train_test_split(transformed_x, \n",
    "                                                    y, \n",
    "                                                    test_size=0.2)"
   ]
  },
  {
   "cell_type": "code",
   "execution_count": 162,
   "id": "efb26641",
   "metadata": {},
   "outputs": [
    {
     "data": {
      "text/plain": [
       "RandomForestRegressor()"
      ]
     },
     "execution_count": 162,
     "metadata": {},
     "output_type": "execute_result"
    }
   ],
   "source": [
    "# build a machine learning model\n",
    "from sklearn.ensemble import RandomForestRegressor \n",
    "\n",
    "model_3 = RandomForestRegressor()\n",
    "\n",
    "\n",
    "model_3.fit(x_train, y_train)\n"
   ]
  },
  {
   "cell_type": "code",
   "execution_count": 170,
   "id": "460669c3",
   "metadata": {},
   "outputs": [
    {
     "data": {
      "text/plain": [
       "0.7401433051483493"
      ]
     },
     "execution_count": 170,
     "metadata": {},
     "output_type": "execute_result"
    }
   ],
   "source": [
    "model_3.score(x_test, y_test)"
   ]
  },
  {
   "cell_type": "code",
   "execution_count": 171,
   "id": "465eb12f",
   "metadata": {},
   "outputs": [],
   "source": [
    "# making predictions\n",
    "y_preds = model_3.predict(x_test)"
   ]
  },
  {
   "cell_type": "code",
   "execution_count": 175,
   "id": "62fd2c61",
   "metadata": {},
   "outputs": [
    {
     "data": {
      "text/html": [
       "<div>\n",
       "<style scoped>\n",
       "    .dataframe tbody tr th:only-of-type {\n",
       "        vertical-align: middle;\n",
       "    }\n",
       "\n",
       "    .dataframe tbody tr th {\n",
       "        vertical-align: top;\n",
       "    }\n",
       "\n",
       "    .dataframe thead th {\n",
       "        text-align: right;\n",
       "    }\n",
       "</style>\n",
       "<table border=\"1\" class=\"dataframe\">\n",
       "  <thead>\n",
       "    <tr style=\"text-align: right;\">\n",
       "      <th></th>\n",
       "      <th>actual</th>\n",
       "      <th>prediction</th>\n",
       "    </tr>\n",
       "  </thead>\n",
       "  <tbody>\n",
       "    <tr>\n",
       "      <th>158</th>\n",
       "      <td>212.10</td>\n",
       "      <td>617.3470</td>\n",
       "    </tr>\n",
       "    <tr>\n",
       "      <th>163</th>\n",
       "      <td>785.40</td>\n",
       "      <td>734.7058</td>\n",
       "    </tr>\n",
       "    <tr>\n",
       "      <th>164</th>\n",
       "      <td>1019.10</td>\n",
       "      <td>926.6100</td>\n",
       "    </tr>\n",
       "    <tr>\n",
       "      <th>168</th>\n",
       "      <td>1197.40</td>\n",
       "      <td>933.1270</td>\n",
       "    </tr>\n",
       "    <tr>\n",
       "      <th>173</th>\n",
       "      <td>1152.20</td>\n",
       "      <td>1049.5850</td>\n",
       "    </tr>\n",
       "    <tr>\n",
       "      <th>179</th>\n",
       "      <td>2297.40</td>\n",
       "      <td>1665.6790</td>\n",
       "    </tr>\n",
       "    <tr>\n",
       "      <th>181</th>\n",
       "      <td>273.20</td>\n",
       "      <td>593.2080</td>\n",
       "    </tr>\n",
       "    <tr>\n",
       "      <th>184</th>\n",
       "      <td>526.40</td>\n",
       "      <td>765.7900</td>\n",
       "    </tr>\n",
       "    <tr>\n",
       "      <th>195</th>\n",
       "      <td>1714.30</td>\n",
       "      <td>1420.4160</td>\n",
       "    </tr>\n",
       "    <tr>\n",
       "      <th>196</th>\n",
       "      <td>2092.50</td>\n",
       "      <td>1455.9550</td>\n",
       "    </tr>\n",
       "    <tr>\n",
       "      <th>197</th>\n",
       "      <td>1124.60</td>\n",
       "      <td>907.4790</td>\n",
       "    </tr>\n",
       "    <tr>\n",
       "      <th>198</th>\n",
       "      <td>1219.70</td>\n",
       "      <td>946.7170</td>\n",
       "    </tr>\n",
       "    <tr>\n",
       "      <th>206</th>\n",
       "      <td>1109.00</td>\n",
       "      <td>1184.1110</td>\n",
       "    </tr>\n",
       "    <tr>\n",
       "      <th>210</th>\n",
       "      <td>845.80</td>\n",
       "      <td>958.8040</td>\n",
       "    </tr>\n",
       "    <tr>\n",
       "      <th>224</th>\n",
       "      <td>1296.50</td>\n",
       "      <td>1200.0340</td>\n",
       "    </tr>\n",
       "    <tr>\n",
       "      <th>226</th>\n",
       "      <td>943.80</td>\n",
       "      <td>1319.3280</td>\n",
       "    </tr>\n",
       "    <tr>\n",
       "      <th>230</th>\n",
       "      <td>496.80</td>\n",
       "      <td>517.6450</td>\n",
       "    </tr>\n",
       "    <tr>\n",
       "      <th>239</th>\n",
       "      <td>883.40</td>\n",
       "      <td>795.0480</td>\n",
       "    </tr>\n",
       "    <tr>\n",
       "      <th>242</th>\n",
       "      <td>1275.80</td>\n",
       "      <td>1350.0410</td>\n",
       "    </tr>\n",
       "    <tr>\n",
       "      <th>244</th>\n",
       "      <td>1609.10</td>\n",
       "      <td>1375.6140</td>\n",
       "    </tr>\n",
       "    <tr>\n",
       "      <th>251</th>\n",
       "      <td>444.80</td>\n",
       "      <td>494.6710</td>\n",
       "    </tr>\n",
       "    <tr>\n",
       "      <th>259</th>\n",
       "      <td>1559.60</td>\n",
       "      <td>1515.7930</td>\n",
       "    </tr>\n",
       "    <tr>\n",
       "      <th>274</th>\n",
       "      <td>683.90</td>\n",
       "      <td>713.4000</td>\n",
       "    </tr>\n",
       "    <tr>\n",
       "      <th>284</th>\n",
       "      <td>1487.70</td>\n",
       "      <td>1125.6370</td>\n",
       "    </tr>\n",
       "    <tr>\n",
       "      <th>286</th>\n",
       "      <td>258.30</td>\n",
       "      <td>496.7930</td>\n",
       "    </tr>\n",
       "    <tr>\n",
       "      <th>288</th>\n",
       "      <td>609.80</td>\n",
       "      <td>602.8360</td>\n",
       "    </tr>\n",
       "    <tr>\n",
       "      <th>289</th>\n",
       "      <td>1258.40</td>\n",
       "      <td>1045.2490</td>\n",
       "    </tr>\n",
       "    <tr>\n",
       "      <th>294</th>\n",
       "      <td>580.20</td>\n",
       "      <td>775.4188</td>\n",
       "    </tr>\n",
       "    <tr>\n",
       "      <th>296</th>\n",
       "      <td>610.14</td>\n",
       "      <td>919.4810</td>\n",
       "    </tr>\n",
       "    <tr>\n",
       "      <th>300</th>\n",
       "      <td>485.00</td>\n",
       "      <td>738.4830</td>\n",
       "    </tr>\n",
       "    <tr>\n",
       "      <th>305</th>\n",
       "      <td>185.00</td>\n",
       "      <td>538.8610</td>\n",
       "    </tr>\n",
       "  </tbody>\n",
       "</table>\n",
       "</div>"
      ],
      "text/plain": [
       "      actual  prediction\n",
       "158   212.10    617.3470\n",
       "163   785.40    734.7058\n",
       "164  1019.10    926.6100\n",
       "168  1197.40    933.1270\n",
       "173  1152.20   1049.5850\n",
       "179  2297.40   1665.6790\n",
       "181   273.20    593.2080\n",
       "184   526.40    765.7900\n",
       "195  1714.30   1420.4160\n",
       "196  2092.50   1455.9550\n",
       "197  1124.60    907.4790\n",
       "198  1219.70    946.7170\n",
       "206  1109.00   1184.1110\n",
       "210   845.80    958.8040\n",
       "224  1296.50   1200.0340\n",
       "226   943.80   1319.3280\n",
       "230   496.80    517.6450\n",
       "239   883.40    795.0480\n",
       "242  1275.80   1350.0410\n",
       "244  1609.10   1375.6140\n",
       "251   444.80    494.6710\n",
       "259  1559.60   1515.7930\n",
       "274   683.90    713.4000\n",
       "284  1487.70   1125.6370\n",
       "286   258.30    496.7930\n",
       "288   609.80    602.8360\n",
       "289  1258.40   1045.2490\n",
       "294   580.20    775.4188\n",
       "296   610.14    919.4810\n",
       "300   485.00    738.4830\n",
       "305   185.00    538.8610"
      ]
     },
     "execution_count": 175,
     "metadata": {},
     "output_type": "execute_result"
    }
   ],
   "source": [
    "#y_test.head(20)\n",
    "form = pd.DataFrame({\"actual\": y_test, \"prediction\": y_preds}) .sort_index()\n",
    "form.tail(31)"
   ]
  },
  {
   "cell_type": "code",
   "execution_count": 172,
   "id": "4cbbcb1d",
   "metadata": {},
   "outputs": [
    {
     "data": {
      "text/plain": [
       "array([ 602.836,  696.024, 1427.27 ,  775.97 ,  285.271, 1355.032,\n",
       "        900.485,  765.79 , 1375.614, 1128.402])"
      ]
     },
     "execution_count": 172,
     "metadata": {},
     "output_type": "execute_result"
    }
   ],
   "source": [
    "# prediction\n",
    "y_preds[:10]"
   ]
  },
  {
   "cell_type": "code",
   "execution_count": 169,
   "id": "27547376",
   "metadata": {},
   "outputs": [
    {
     "data": {
      "text/plain": [
       "array([ 609.8,  686.2, 1387.8,  650.8,  853.6, 1293.8,  700.6,  526.4,\n",
       "       1609.1, 1382.9])"
      ]
     },
     "execution_count": 169,
     "metadata": {},
     "output_type": "execute_result"
    }
   ],
   "source": [
    "# truth\n",
    "np.array(y_test[:10])"
   ]
  },
  {
   "cell_type": "code",
   "execution_count": 32,
   "id": "2500d67e",
   "metadata": {},
   "outputs": [
    {
     "data": {
      "text/plain": [
       "178.56635483870977"
      ]
     },
     "execution_count": 32,
     "metadata": {},
     "output_type": "execute_result"
    }
   ],
   "source": [
    "# comparing prediction to the truth\n",
    "from sklearn.metrics import mean_absolute_error\n",
    "mean_absolute_error(y_test, y_preds)"
   ]
  },
  {
   "cell_type": "markdown",
   "id": "3e27577a",
   "metadata": {},
   "source": [
    "### fourth model\n"
   ]
  },
  {
   "cell_type": "code",
   "execution_count": 230,
   "id": "9a715537",
   "metadata": {},
   "outputs": [
    {
     "data": {
      "text/plain": [
       "Index(['Weekday (Mon = 1; Sun = 7)', 'Date', 'Public Holiday?', 'Weekend?',\n",
       "       'Avg. Temp', 'Precipitation', 'Sunshine Hours', 'Max. Wind (km/h)',\n",
       "       'Food sales'],\n",
       "      dtype='object')"
      ]
     },
     "execution_count": 230,
     "metadata": {},
     "output_type": "execute_result"
    }
   ],
   "source": [
    "df = pd.read_excel(\"Statistical Analysis Base Data train3.xlsx\")\n",
    "\n",
    "df.columns"
   ]
  },
  {
   "cell_type": "code",
   "execution_count": 231,
   "id": "51e18e00",
   "metadata": {},
   "outputs": [],
   "source": [
    "#split into x/y\n",
    "x = df.drop(\"Food sales\", axis=1) \n",
    "y = df[\"Food sales\"]\n"
   ]
  },
  {
   "cell_type": "code",
   "execution_count": 232,
   "id": "126c4fdb",
   "metadata": {},
   "outputs": [
    {
     "data": {
      "text/plain": [
       "array([[ 1. ,  0. ,  1. , ...,  0. , 12.3, 24. ],\n",
       "       [ 1. ,  0. ,  1. , ...,  0. ,  8. , 44. ],\n",
       "       [ 1. ,  0. ,  1. , ...,  0. , 12.2, 42. ],\n",
       "       ...,\n",
       "       [ 1. ,  0. ,  1. , ...,  0. ,  2.3,  0. ],\n",
       "       [ 1. ,  0. ,  0. , ...,  0. ,  8.7, 18. ],\n",
       "       [ 1. ,  0. ,  0. , ...,  0. ,  2.5, 30. ]])"
      ]
     },
     "execution_count": 232,
     "metadata": {},
     "output_type": "execute_result"
    }
   ],
   "source": [
    "# turn the categories into numbers\n",
    "from sklearn.preprocessing import OneHotEncoder\n",
    "from sklearn.compose import ColumnTransformer\n",
    "\n",
    "categorical_features = [\"Public Holiday?\", \"Weekend?\"]\n",
    "one_hot = OneHotEncoder()\n",
    "transformer = ColumnTransformer([(\"one_hot\", \n",
    "                                   one_hot,\n",
    "                                   categorical_features)],\n",
    "                                   remainder=\"passthrough\")\n",
    "\n",
    "transformed_x = transformer.fit_transform(x)\n",
    "transformed_x"
   ]
  },
  {
   "cell_type": "code",
   "execution_count": 233,
   "id": "24f4a8bb",
   "metadata": {},
   "outputs": [],
   "source": [
    "# split data into training and test sets\n",
    "\n",
    "np.random.seed(42)\n",
    "from sklearn.model_selection import train_test_split\n",
    "\n",
    "x_train, x_test, y_train, y_test = train_test_split(transformed_x, \n",
    "                                                    y, \n",
    "                                                    test_size=0.2)"
   ]
  },
  {
   "cell_type": "code",
   "execution_count": 234,
   "id": "4d22646f",
   "metadata": {},
   "outputs": [
    {
     "data": {
      "text/plain": [
       "RandomForestRegressor()"
      ]
     },
     "execution_count": 234,
     "metadata": {},
     "output_type": "execute_result"
    }
   ],
   "source": [
    "# build a machine learning model\n",
    "from sklearn.ensemble import RandomForestRegressor \n",
    "\n",
    "model_4 = RandomForestRegressor()\n",
    "\n",
    "\n",
    "model_4.fit(x_train, y_train)\n"
   ]
  },
  {
   "cell_type": "code",
   "execution_count": 237,
   "id": "7a9d8e6b",
   "metadata": {},
   "outputs": [
    {
     "data": {
      "text/plain": [
       "0.7550637660281101"
      ]
     },
     "execution_count": 237,
     "metadata": {},
     "output_type": "execute_result"
    }
   ],
   "source": [
    "model_4.score(x_test, y_test)"
   ]
  },
  {
   "cell_type": "code",
   "execution_count": 242,
   "id": "d3c179dd",
   "metadata": {},
   "outputs": [
    {
     "data": {
      "text/html": [
       "<div>\n",
       "<style scoped>\n",
       "    .dataframe tbody tr th:only-of-type {\n",
       "        vertical-align: middle;\n",
       "    }\n",
       "\n",
       "    .dataframe tbody tr th {\n",
       "        vertical-align: top;\n",
       "    }\n",
       "\n",
       "    .dataframe thead th {\n",
       "        text-align: right;\n",
       "    }\n",
       "</style>\n",
       "<table border=\"1\" class=\"dataframe\">\n",
       "  <thead>\n",
       "    <tr style=\"text-align: right;\">\n",
       "      <th></th>\n",
       "      <th>actual</th>\n",
       "      <th>prediction</th>\n",
       "    </tr>\n",
       "  </thead>\n",
       "  <tbody>\n",
       "    <tr>\n",
       "      <th>158</th>\n",
       "      <td>212.10</td>\n",
       "      <td>701.3360</td>\n",
       "    </tr>\n",
       "    <tr>\n",
       "      <th>163</th>\n",
       "      <td>785.40</td>\n",
       "      <td>745.6430</td>\n",
       "    </tr>\n",
       "    <tr>\n",
       "      <th>164</th>\n",
       "      <td>1019.10</td>\n",
       "      <td>1066.0840</td>\n",
       "    </tr>\n",
       "    <tr>\n",
       "      <th>168</th>\n",
       "      <td>1197.40</td>\n",
       "      <td>1020.9280</td>\n",
       "    </tr>\n",
       "    <tr>\n",
       "      <th>173</th>\n",
       "      <td>1152.20</td>\n",
       "      <td>1174.0910</td>\n",
       "    </tr>\n",
       "    <tr>\n",
       "      <th>179</th>\n",
       "      <td>2297.40</td>\n",
       "      <td>1679.3800</td>\n",
       "    </tr>\n",
       "    <tr>\n",
       "      <th>181</th>\n",
       "      <td>273.20</td>\n",
       "      <td>589.0400</td>\n",
       "    </tr>\n",
       "    <tr>\n",
       "      <th>184</th>\n",
       "      <td>526.40</td>\n",
       "      <td>796.4030</td>\n",
       "    </tr>\n",
       "    <tr>\n",
       "      <th>195</th>\n",
       "      <td>1714.30</td>\n",
       "      <td>1476.2530</td>\n",
       "    </tr>\n",
       "    <tr>\n",
       "      <th>196</th>\n",
       "      <td>2092.50</td>\n",
       "      <td>1608.4110</td>\n",
       "    </tr>\n",
       "    <tr>\n",
       "      <th>197</th>\n",
       "      <td>1124.60</td>\n",
       "      <td>944.4650</td>\n",
       "    </tr>\n",
       "    <tr>\n",
       "      <th>198</th>\n",
       "      <td>1219.70</td>\n",
       "      <td>1020.8360</td>\n",
       "    </tr>\n",
       "    <tr>\n",
       "      <th>206</th>\n",
       "      <td>1109.00</td>\n",
       "      <td>1214.5160</td>\n",
       "    </tr>\n",
       "    <tr>\n",
       "      <th>210</th>\n",
       "      <td>845.80</td>\n",
       "      <td>923.1230</td>\n",
       "    </tr>\n",
       "    <tr>\n",
       "      <th>224</th>\n",
       "      <td>1296.50</td>\n",
       "      <td>1195.9050</td>\n",
       "    </tr>\n",
       "    <tr>\n",
       "      <th>226</th>\n",
       "      <td>943.80</td>\n",
       "      <td>1184.2480</td>\n",
       "    </tr>\n",
       "    <tr>\n",
       "      <th>230</th>\n",
       "      <td>496.80</td>\n",
       "      <td>459.3540</td>\n",
       "    </tr>\n",
       "    <tr>\n",
       "      <th>239</th>\n",
       "      <td>883.40</td>\n",
       "      <td>844.7140</td>\n",
       "    </tr>\n",
       "    <tr>\n",
       "      <th>242</th>\n",
       "      <td>1275.80</td>\n",
       "      <td>1358.1890</td>\n",
       "    </tr>\n",
       "    <tr>\n",
       "      <th>244</th>\n",
       "      <td>1609.10</td>\n",
       "      <td>1267.5340</td>\n",
       "    </tr>\n",
       "    <tr>\n",
       "      <th>251</th>\n",
       "      <td>444.80</td>\n",
       "      <td>510.7430</td>\n",
       "    </tr>\n",
       "    <tr>\n",
       "      <th>259</th>\n",
       "      <td>1559.60</td>\n",
       "      <td>1463.5550</td>\n",
       "    </tr>\n",
       "    <tr>\n",
       "      <th>274</th>\n",
       "      <td>683.90</td>\n",
       "      <td>779.6000</td>\n",
       "    </tr>\n",
       "    <tr>\n",
       "      <th>284</th>\n",
       "      <td>1487.70</td>\n",
       "      <td>1107.5370</td>\n",
       "    </tr>\n",
       "    <tr>\n",
       "      <th>286</th>\n",
       "      <td>258.30</td>\n",
       "      <td>516.8540</td>\n",
       "    </tr>\n",
       "    <tr>\n",
       "      <th>288</th>\n",
       "      <td>609.80</td>\n",
       "      <td>571.6340</td>\n",
       "    </tr>\n",
       "    <tr>\n",
       "      <th>289</th>\n",
       "      <td>1258.40</td>\n",
       "      <td>1025.0760</td>\n",
       "    </tr>\n",
       "    <tr>\n",
       "      <th>294</th>\n",
       "      <td>580.20</td>\n",
       "      <td>780.9138</td>\n",
       "    </tr>\n",
       "    <tr>\n",
       "      <th>296</th>\n",
       "      <td>610.14</td>\n",
       "      <td>919.1220</td>\n",
       "    </tr>\n",
       "    <tr>\n",
       "      <th>300</th>\n",
       "      <td>485.00</td>\n",
       "      <td>682.9560</td>\n",
       "    </tr>\n",
       "    <tr>\n",
       "      <th>305</th>\n",
       "      <td>185.00</td>\n",
       "      <td>533.6980</td>\n",
       "    </tr>\n",
       "  </tbody>\n",
       "</table>\n",
       "</div>"
      ],
      "text/plain": [
       "      actual  prediction\n",
       "158   212.10    701.3360\n",
       "163   785.40    745.6430\n",
       "164  1019.10   1066.0840\n",
       "168  1197.40   1020.9280\n",
       "173  1152.20   1174.0910\n",
       "179  2297.40   1679.3800\n",
       "181   273.20    589.0400\n",
       "184   526.40    796.4030\n",
       "195  1714.30   1476.2530\n",
       "196  2092.50   1608.4110\n",
       "197  1124.60    944.4650\n",
       "198  1219.70   1020.8360\n",
       "206  1109.00   1214.5160\n",
       "210   845.80    923.1230\n",
       "224  1296.50   1195.9050\n",
       "226   943.80   1184.2480\n",
       "230   496.80    459.3540\n",
       "239   883.40    844.7140\n",
       "242  1275.80   1358.1890\n",
       "244  1609.10   1267.5340\n",
       "251   444.80    510.7430\n",
       "259  1559.60   1463.5550\n",
       "274   683.90    779.6000\n",
       "284  1487.70   1107.5370\n",
       "286   258.30    516.8540\n",
       "288   609.80    571.6340\n",
       "289  1258.40   1025.0760\n",
       "294   580.20    780.9138\n",
       "296   610.14    919.1220\n",
       "300   485.00    682.9560\n",
       "305   185.00    533.6980"
      ]
     },
     "execution_count": 242,
     "metadata": {},
     "output_type": "execute_result"
    }
   ],
   "source": [
    "#y_test.head(20)\n",
    "form = pd.DataFrame({\"actual\": y_test, \"prediction\": y_preds}) .sort_index()\n",
    "form.tail(31)"
   ]
  },
  {
   "cell_type": "code",
   "execution_count": 239,
   "id": "9a5b840e",
   "metadata": {},
   "outputs": [],
   "source": [
    "# making predictions\n",
    "y_preds = model_4.predict(x_test)"
   ]
  },
  {
   "cell_type": "code",
   "execution_count": 240,
   "id": "5c21bf45",
   "metadata": {},
   "outputs": [
    {
     "data": {
      "text/plain": [
       "array([ 571.634,  667.453, 1375.338,  795.042,  293.283, 1336.619,\n",
       "        952.966,  796.403, 1267.534, 1008.669])"
      ]
     },
     "execution_count": 240,
     "metadata": {},
     "output_type": "execute_result"
    }
   ],
   "source": [
    "# prediction\n",
    "y_preds[:10]"
   ]
  },
  {
   "cell_type": "code",
   "execution_count": 241,
   "id": "a106357f",
   "metadata": {},
   "outputs": [
    {
     "data": {
      "text/plain": [
       "array([ 609.8,  686.2, 1387.8,  650.8,  853.6, 1293.8,  700.6,  526.4,\n",
       "       1609.1, 1382.9])"
      ]
     },
     "execution_count": 241,
     "metadata": {},
     "output_type": "execute_result"
    }
   ],
   "source": [
    "# truth\n",
    "np.array(y_test[:10])"
   ]
  },
  {
   "cell_type": "code",
   "execution_count": 197,
   "id": "4d171e65",
   "metadata": {},
   "outputs": [
    {
     "data": {
      "text/plain": [
       "179.21649677419364"
      ]
     },
     "execution_count": 197,
     "metadata": {},
     "output_type": "execute_result"
    }
   ],
   "source": [
    "# comparing prediction to the truth\n",
    "from sklearn.metrics import mean_absolute_error\n",
    "mean_absolute_error(y_test, y_preds)"
   ]
  },
  {
   "cell_type": "markdown",
   "id": "c5e9091a",
   "metadata": {},
   "source": [
    "### fifth model"
   ]
  },
  {
   "cell_type": "code",
   "execution_count": 243,
   "id": "cd906b39",
   "metadata": {},
   "outputs": [
    {
     "data": {
      "text/plain": [
       "Index(['Weekday (Mon = 1; Sun = 7)', 'Date', 'Public Holiday?', 'Weekend?',\n",
       "       'Min. Temp', 'Max. Temp', 'Precipitation', 'Sunshine Hours',\n",
       "       'Max. Wind (km/h)', 'Food sales'],\n",
       "      dtype='object')"
      ]
     },
     "execution_count": 243,
     "metadata": {},
     "output_type": "execute_result"
    }
   ],
   "source": [
    "df = pd.read_excel(\"Statistical Analysis Base Data train4.xlsx\")\n",
    "\n",
    "df.columns"
   ]
  },
  {
   "cell_type": "code",
   "execution_count": 244,
   "id": "63c12de9",
   "metadata": {},
   "outputs": [],
   "source": [
    "#split into x/y\n",
    "x = df.drop(\"Food sales\", axis=1) \n",
    "y = df[\"Food sales\"]\n"
   ]
  },
  {
   "cell_type": "code",
   "execution_count": 245,
   "id": "ca924a52",
   "metadata": {},
   "outputs": [
    {
     "data": {
      "text/plain": [
       "array([[ 1. ,  0. ,  1. , ...,  0. , 12.3, 24. ],\n",
       "       [ 1. ,  0. ,  1. , ...,  0. ,  8. , 44. ],\n",
       "       [ 1. ,  0. ,  1. , ...,  0. , 12.2, 42. ],\n",
       "       ...,\n",
       "       [ 1. ,  0. ,  1. , ...,  0. ,  2.3,  0. ],\n",
       "       [ 1. ,  0. ,  0. , ...,  0. ,  8.7, 18. ],\n",
       "       [ 1. ,  0. ,  0. , ...,  0. ,  2.5, 30. ]])"
      ]
     },
     "execution_count": 245,
     "metadata": {},
     "output_type": "execute_result"
    }
   ],
   "source": [
    "# turn the categories into numbers\n",
    "from sklearn.preprocessing import OneHotEncoder\n",
    "from sklearn.compose import ColumnTransformer\n",
    "\n",
    "categorical_features = [\"Public Holiday?\", \"Weekend?\"]\n",
    "one_hot = OneHotEncoder()\n",
    "transformer = ColumnTransformer([(\"one_hot\", \n",
    "                                   one_hot,\n",
    "                                   categorical_features)],\n",
    "                                   remainder=\"passthrough\")\n",
    "\n",
    "transformed_x = transformer.fit_transform(x)\n",
    "transformed_x"
   ]
  },
  {
   "cell_type": "code",
   "execution_count": 246,
   "id": "ba58e786",
   "metadata": {},
   "outputs": [],
   "source": [
    "# split data into training and test sets\n",
    "\n",
    "np.random.seed(42)\n",
    "from sklearn.model_selection import train_test_split\n",
    "\n",
    "x_train, x_test, y_train, y_test = train_test_split(transformed_x, \n",
    "                                                    y, \n",
    "                                                    test_size=0.2)"
   ]
  },
  {
   "cell_type": "code",
   "execution_count": 247,
   "id": "7b177d4f",
   "metadata": {},
   "outputs": [
    {
     "data": {
      "text/plain": [
       "RandomForestRegressor()"
      ]
     },
     "execution_count": 247,
     "metadata": {},
     "output_type": "execute_result"
    }
   ],
   "source": [
    "# build a machine learning model\n",
    "from sklearn.ensemble import RandomForestRegressor \n",
    "\n",
    "model_5 = RandomForestRegressor()\n",
    "\n",
    "\n",
    "model_5.fit(x_train, y_train)\n"
   ]
  },
  {
   "cell_type": "code",
   "execution_count": 252,
   "id": "e10571d0",
   "metadata": {},
   "outputs": [
    {
     "data": {
      "text/plain": [
       "0.7438368827358617"
      ]
     },
     "execution_count": 252,
     "metadata": {},
     "output_type": "execute_result"
    }
   ],
   "source": [
    "model_5.score(x_test, y_test)"
   ]
  },
  {
   "cell_type": "code",
   "execution_count": 253,
   "id": "72069b7f",
   "metadata": {},
   "outputs": [],
   "source": [
    "# making predictions\n",
    "y_preds = model_5.predict(x_test)"
   ]
  },
  {
   "cell_type": "code",
   "execution_count": 254,
   "id": "bc07f7fb",
   "metadata": {},
   "outputs": [
    {
     "data": {
      "text/html": [
       "<div>\n",
       "<style scoped>\n",
       "    .dataframe tbody tr th:only-of-type {\n",
       "        vertical-align: middle;\n",
       "    }\n",
       "\n",
       "    .dataframe tbody tr th {\n",
       "        vertical-align: top;\n",
       "    }\n",
       "\n",
       "    .dataframe thead th {\n",
       "        text-align: right;\n",
       "    }\n",
       "</style>\n",
       "<table border=\"1\" class=\"dataframe\">\n",
       "  <thead>\n",
       "    <tr style=\"text-align: right;\">\n",
       "      <th></th>\n",
       "      <th>actual</th>\n",
       "      <th>prediction</th>\n",
       "    </tr>\n",
       "  </thead>\n",
       "  <tbody>\n",
       "    <tr>\n",
       "      <th>158</th>\n",
       "      <td>212.10</td>\n",
       "      <td>635.7828</td>\n",
       "    </tr>\n",
       "    <tr>\n",
       "      <th>163</th>\n",
       "      <td>785.40</td>\n",
       "      <td>695.1520</td>\n",
       "    </tr>\n",
       "    <tr>\n",
       "      <th>164</th>\n",
       "      <td>1019.10</td>\n",
       "      <td>873.5510</td>\n",
       "    </tr>\n",
       "    <tr>\n",
       "      <th>168</th>\n",
       "      <td>1197.40</td>\n",
       "      <td>932.8080</td>\n",
       "    </tr>\n",
       "    <tr>\n",
       "      <th>173</th>\n",
       "      <td>1152.20</td>\n",
       "      <td>1025.2830</td>\n",
       "    </tr>\n",
       "    <tr>\n",
       "      <th>179</th>\n",
       "      <td>2297.40</td>\n",
       "      <td>1678.6250</td>\n",
       "    </tr>\n",
       "    <tr>\n",
       "      <th>181</th>\n",
       "      <td>273.20</td>\n",
       "      <td>612.1760</td>\n",
       "    </tr>\n",
       "    <tr>\n",
       "      <th>184</th>\n",
       "      <td>526.40</td>\n",
       "      <td>758.2770</td>\n",
       "    </tr>\n",
       "    <tr>\n",
       "      <th>195</th>\n",
       "      <td>1714.30</td>\n",
       "      <td>1420.2580</td>\n",
       "    </tr>\n",
       "    <tr>\n",
       "      <th>196</th>\n",
       "      <td>2092.50</td>\n",
       "      <td>1471.1950</td>\n",
       "    </tr>\n",
       "    <tr>\n",
       "      <th>197</th>\n",
       "      <td>1124.60</td>\n",
       "      <td>898.8900</td>\n",
       "    </tr>\n",
       "    <tr>\n",
       "      <th>198</th>\n",
       "      <td>1219.70</td>\n",
       "      <td>938.3740</td>\n",
       "    </tr>\n",
       "    <tr>\n",
       "      <th>206</th>\n",
       "      <td>1109.00</td>\n",
       "      <td>1212.4400</td>\n",
       "    </tr>\n",
       "    <tr>\n",
       "      <th>210</th>\n",
       "      <td>845.80</td>\n",
       "      <td>934.9970</td>\n",
       "    </tr>\n",
       "    <tr>\n",
       "      <th>224</th>\n",
       "      <td>1296.50</td>\n",
       "      <td>1236.2100</td>\n",
       "    </tr>\n",
       "    <tr>\n",
       "      <th>226</th>\n",
       "      <td>943.80</td>\n",
       "      <td>1325.0020</td>\n",
       "    </tr>\n",
       "    <tr>\n",
       "      <th>230</th>\n",
       "      <td>496.80</td>\n",
       "      <td>515.5680</td>\n",
       "    </tr>\n",
       "    <tr>\n",
       "      <th>239</th>\n",
       "      <td>883.40</td>\n",
       "      <td>789.9020</td>\n",
       "    </tr>\n",
       "    <tr>\n",
       "      <th>242</th>\n",
       "      <td>1275.80</td>\n",
       "      <td>1368.7690</td>\n",
       "    </tr>\n",
       "    <tr>\n",
       "      <th>244</th>\n",
       "      <td>1609.10</td>\n",
       "      <td>1382.8770</td>\n",
       "    </tr>\n",
       "    <tr>\n",
       "      <th>251</th>\n",
       "      <td>444.80</td>\n",
       "      <td>517.6820</td>\n",
       "    </tr>\n",
       "    <tr>\n",
       "      <th>259</th>\n",
       "      <td>1559.60</td>\n",
       "      <td>1506.7210</td>\n",
       "    </tr>\n",
       "    <tr>\n",
       "      <th>274</th>\n",
       "      <td>683.90</td>\n",
       "      <td>692.3210</td>\n",
       "    </tr>\n",
       "    <tr>\n",
       "      <th>284</th>\n",
       "      <td>1487.70</td>\n",
       "      <td>1139.8870</td>\n",
       "    </tr>\n",
       "    <tr>\n",
       "      <th>286</th>\n",
       "      <td>258.30</td>\n",
       "      <td>477.2010</td>\n",
       "    </tr>\n",
       "    <tr>\n",
       "      <th>288</th>\n",
       "      <td>609.80</td>\n",
       "      <td>599.9280</td>\n",
       "    </tr>\n",
       "    <tr>\n",
       "      <th>289</th>\n",
       "      <td>1258.40</td>\n",
       "      <td>1071.0420</td>\n",
       "    </tr>\n",
       "    <tr>\n",
       "      <th>294</th>\n",
       "      <td>580.20</td>\n",
       "      <td>765.7810</td>\n",
       "    </tr>\n",
       "    <tr>\n",
       "      <th>296</th>\n",
       "      <td>610.14</td>\n",
       "      <td>924.4760</td>\n",
       "    </tr>\n",
       "    <tr>\n",
       "      <th>300</th>\n",
       "      <td>485.00</td>\n",
       "      <td>711.2040</td>\n",
       "    </tr>\n",
       "    <tr>\n",
       "      <th>305</th>\n",
       "      <td>185.00</td>\n",
       "      <td>533.2880</td>\n",
       "    </tr>\n",
       "  </tbody>\n",
       "</table>\n",
       "</div>"
      ],
      "text/plain": [
       "      actual  prediction\n",
       "158   212.10    635.7828\n",
       "163   785.40    695.1520\n",
       "164  1019.10    873.5510\n",
       "168  1197.40    932.8080\n",
       "173  1152.20   1025.2830\n",
       "179  2297.40   1678.6250\n",
       "181   273.20    612.1760\n",
       "184   526.40    758.2770\n",
       "195  1714.30   1420.2580\n",
       "196  2092.50   1471.1950\n",
       "197  1124.60    898.8900\n",
       "198  1219.70    938.3740\n",
       "206  1109.00   1212.4400\n",
       "210   845.80    934.9970\n",
       "224  1296.50   1236.2100\n",
       "226   943.80   1325.0020\n",
       "230   496.80    515.5680\n",
       "239   883.40    789.9020\n",
       "242  1275.80   1368.7690\n",
       "244  1609.10   1382.8770\n",
       "251   444.80    517.6820\n",
       "259  1559.60   1506.7210\n",
       "274   683.90    692.3210\n",
       "284  1487.70   1139.8870\n",
       "286   258.30    477.2010\n",
       "288   609.80    599.9280\n",
       "289  1258.40   1071.0420\n",
       "294   580.20    765.7810\n",
       "296   610.14    924.4760\n",
       "300   485.00    711.2040\n",
       "305   185.00    533.2880"
      ]
     },
     "execution_count": 254,
     "metadata": {},
     "output_type": "execute_result"
    }
   ],
   "source": [
    "#y_test.head(20)\n",
    "form = pd.DataFrame({\"actual\": y_test, \"prediction\": y_preds}) .sort_index()\n",
    "form.tail(31)"
   ]
  },
  {
   "cell_type": "code",
   "execution_count": 255,
   "id": "4860bbb2",
   "metadata": {},
   "outputs": [
    {
     "data": {
      "text/plain": [
       "array([ 599.928,  648.33 , 1428.801,  786.836,  301.468, 1364.957,\n",
       "        887.444,  758.277, 1382.877, 1144.171])"
      ]
     },
     "execution_count": 255,
     "metadata": {},
     "output_type": "execute_result"
    }
   ],
   "source": [
    "# prediction\n",
    "y_preds[:10]"
   ]
  },
  {
   "cell_type": "code",
   "execution_count": 228,
   "id": "f80744ab",
   "metadata": {},
   "outputs": [
    {
     "data": {
      "text/plain": [
       "array([ 609.8,  686.2, 1387.8,  650.8,  853.6, 1293.8,  700.6,  526.4,\n",
       "       1609.1, 1382.9])"
      ]
     },
     "execution_count": 228,
     "metadata": {},
     "output_type": "execute_result"
    }
   ],
   "source": [
    "# truth\n",
    "np.array(y_test[:10])"
   ]
  },
  {
   "cell_type": "code",
   "execution_count": 219,
   "id": "ef32c8b3",
   "metadata": {},
   "outputs": [
    {
     "data": {
      "text/plain": [
       "179.77938387096776"
      ]
     },
     "execution_count": 219,
     "metadata": {},
     "output_type": "execute_result"
    }
   ],
   "source": [
    "# comparing prediction to the truth\n",
    "from sklearn.metrics import mean_absolute_error\n",
    "mean_absolute_error(y_test, y_preds)"
   ]
  },
  {
   "cell_type": "markdown",
   "id": "45b8e39b",
   "metadata": {},
   "source": [
    "## Saving and loading the trained prediction models"
   ]
  },
  {
   "cell_type": "code",
   "execution_count": 214,
   "id": "fa367b8a",
   "metadata": {},
   "outputs": [],
   "source": [
    "# import pickle\n",
    "# save an existing model to a file\n",
    "\n",
    "# pickle.dump(model, open(\" with_ridge_regression_model.pkl\", \"wb\"))\n"
   ]
  },
  {
   "cell_type": "code",
   "execution_count": 215,
   "id": "d42eaf23",
   "metadata": {},
   "outputs": [],
   "source": [
    "# pickle.dump(model_1, open(\"baseline_random_forest_regression_model\", \"wb\"))\n",
    "# pickle.dump(model_2, open(\"train_1_rfrm _highest_r^2\", \"wb\"))\n",
    "# pickle.dump(model_3, open(\"train_2_rfrm\", \"wb\"))\n",
    "# pickle.dump(model_4, open(\"train_3_rfrm\", \"wb\"))\n",
    "# pickle.dump(model_5, open(\"train_4_rfrm\", \"wb\"))\n"
   ]
  },
  {
   "cell_type": "code",
   "execution_count": null,
   "id": "d16317d5",
   "metadata": {},
   "outputs": [],
   "source": []
  }
 ],
 "metadata": {
  "kernelspec": {
   "display_name": "Python 3 (ipykernel)",
   "language": "python",
   "name": "python3"
  },
  "language_info": {
   "codemirror_mode": {
    "name": "ipython",
    "version": 3
   },
   "file_extension": ".py",
   "mimetype": "text/x-python",
   "name": "python",
   "nbconvert_exporter": "python",
   "pygments_lexer": "ipython3",
   "version": "3.9.7"
  }
 },
 "nbformat": 4,
 "nbformat_minor": 5
}
